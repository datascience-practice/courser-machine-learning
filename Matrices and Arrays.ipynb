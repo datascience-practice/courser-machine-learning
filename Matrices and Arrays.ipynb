{
 "cells": [
  {
   "cell_type": "code",
   "execution_count": 1,
   "metadata": {
    "collapsed": false
   },
   "outputs": [
    {
     "name": "stdout",
     "output_type": "stream",
     "text": [
      "A =\n",
      "\n",
      "   1   1   1\n",
      "   1   1   1\n",
      "   1   1   1\n",
      "   1   1   1\n",
      "\n",
      "B =\n",
      "\n",
      "   1   1   1   1\n",
      "   1   1   1   1\n",
      "\n",
      "ans =\n",
      "\n",
      "   4   4   4\n",
      "   4   4   4\n",
      "\n"
     ]
    }
   ],
   "source": [
    "A = [1,1,1; 1,1,1; 1,1,1; 1,1,1]\n",
    "B = [1,1,1,1; 1,1,1,1]\n",
    "B*A"
   ]
  },
  {
   "cell_type": "markdown",
   "metadata": {},
   "source": [
    "### Accessing elements of an Array"
   ]
  },
  {
   "cell_type": "code",
   "execution_count": 2,
   "metadata": {
    "collapsed": false
   },
   "outputs": [
    {
     "name": "stdout",
     "output_type": "stream",
     "text": [
      "M =\n",
      "\n",
      "    5   -2    3    1\n",
      "    0    1    2    3\n",
      "    8   -5    0    9\n",
      "   10    2    7    4\n",
      "\n"
     ]
    }
   ],
   "source": [
    "M = [5,-2,3,1; 0,1,2,3; 8,-5,0,9; 10,2,7,4]"
   ]
  },
  {
   "cell_type": "markdown",
   "metadata": {},
   "source": [
    "#### Single element"
   ]
  },
  {
   "cell_type": "code",
   "execution_count": 3,
   "metadata": {
    "collapsed": false
   },
   "outputs": [
    {
     "name": "stdout",
     "output_type": "stream",
     "text": [
      "s1 = -5\r\n"
     ]
    }
   ],
   "source": [
    "s1 = M(3,2)"
   ]
  },
  {
   "cell_type": "markdown",
   "metadata": {},
   "source": [
    "#### Multiple elements"
   ]
  },
  {
   "cell_type": "code",
   "execution_count": 4,
   "metadata": {
    "collapsed": false
   },
   "outputs": [
    {
     "name": "stdout",
     "output_type": "stream",
     "text": [
      "s2 =\n",
      "\n",
      "   1\n",
      "  -5\n",
      "\n",
      "s3 =\n",
      "\n",
      "   1\n",
      "  -5\n",
      "   2\n",
      "\n",
      "s4 =\n",
      "\n",
      "  -2\n",
      "   1\n",
      "  -5\n",
      "   2\n",
      "\n"
     ]
    }
   ],
   "source": [
    "s2 = M([2,3], 2)\n",
    "s3 = M(2:4, 2)\n",
    "s4 = M(:, 2)"
   ]
  },
  {
   "cell_type": "markdown",
   "metadata": {},
   "source": [
    "### Array Size and Length"
   ]
  },
  {
   "cell_type": "markdown",
   "metadata": {},
   "source": [
    "#### length of vector"
   ]
  },
  {
   "cell_type": "code",
   "execution_count": 5,
   "metadata": {
    "collapsed": false
   },
   "outputs": [
    {
     "name": "stdout",
     "output_type": "stream",
     "text": [
      "u =\n",
      "\n",
      "   0\n",
      "   1\n",
      "   2\n",
      "   3\n",
      "\n",
      "L1 =  4\n"
     ]
    }
   ],
   "source": [
    "u = [0;1;2;3]\n",
    "L1 = length(u)"
   ]
  },
  {
   "cell_type": "markdown",
   "metadata": {},
   "source": [
    "#### length of matrix"
   ]
  },
  {
   "cell_type": "code",
   "execution_count": 6,
   "metadata": {
    "collapsed": false
   },
   "outputs": [
    {
     "name": "stdout",
     "output_type": "stream",
     "text": [
      "m1 =\n",
      "\n",
      "   1   2   3   4\n",
      "   8   7   6   5\n",
      "\n",
      "m2 =\n",
      "\n",
      "   1   2   3\n",
      "   1   4   5\n",
      "   6   7   8\n",
      "   9   4   1\n",
      "\n",
      "l1 =  4\n",
      "l2 =  4\n"
     ]
    }
   ],
   "source": [
    "m1 = [1,2,3,4; 8,7,6,5]\n",
    "m2 = [1,2,3; 1,4,5; 6,7,8; 9,4,1]\n",
    "\n",
    "l1 = length(m1)\n",
    "l2 = length(m2)"
   ]
  },
  {
   "cell_type": "markdown",
   "metadata": {},
   "source": [
    "#### size of matrix"
   ]
  },
  {
   "cell_type": "code",
   "execution_count": 7,
   "metadata": {
    "collapsed": false
   },
   "outputs": [
    {
     "name": "stdout",
     "output_type": "stream",
     "text": [
      "s1 =\n",
      "\n",
      "   2   4\n",
      "\n"
     ]
    }
   ],
   "source": [
    "s1 = size(m1)"
   ]
  },
  {
   "cell_type": "markdown",
   "metadata": {},
   "source": [
    "### Concatenating Arrays"
   ]
  },
  {
   "cell_type": "code",
   "execution_count": 8,
   "metadata": {
    "collapsed": false
   },
   "outputs": [
    {
     "name": "stdout",
     "output_type": "stream",
     "text": [
      "A =\n",
      "\n",
      "   8   1   6\n",
      "   3   5   7\n",
      "   4   9   2\n",
      "\n",
      "B =\n",
      "\n",
      "   0.95000   0.97000   0.80000\n",
      "   0.96000   0.95000   0.14000\n",
      "   0.15000   0.48000   0.42000\n",
      "\n",
      "C =\n",
      "\n",
      "   8.00000   1.00000   6.00000   0.95000   0.97000   0.80000\n",
      "   3.00000   5.00000   7.00000   0.96000   0.95000   0.14000\n",
      "   4.00000   9.00000   2.00000   0.15000   0.48000   0.42000\n",
      "\n",
      "D =\n",
      "\n",
      "   8.00000   1.00000   6.00000\n",
      "   3.00000   5.00000   7.00000\n",
      "   4.00000   9.00000   2.00000\n",
      "   0.95000   0.97000   0.80000\n",
      "   0.96000   0.95000   0.14000\n",
      "   0.15000   0.48000   0.42000\n",
      "\n"
     ]
    }
   ],
   "source": [
    "A = [8,1,6; 3,5,7; 4,9,2]\n",
    "B = [0.95, 0.97, 0.8; 0.96, 0.95, 0.14; 0.15, 0.48, 0.42]\n",
    "C = [A, B]\n",
    "D = [A; B]"
   ]
  },
  {
   "cell_type": "markdown",
   "metadata": {},
   "source": [
    "### Matrix Multiplication"
   ]
  },
  {
   "cell_type": "code",
   "execution_count": 9,
   "metadata": {
    "collapsed": false
   },
   "outputs": [
    {
     "name": "stdout",
     "output_type": "stream",
     "text": [
      "A =\n",
      "\n",
      "   1   2   3   4\n",
      "   0   1   2   3\n",
      "   9   8   7   6\n",
      "\n",
      "B =\n",
      "\n",
      "   2   3\n",
      "   5   6\n",
      "   7   6\n",
      "   9   8\n",
      "\n",
      "C =\n",
      "\n",
      "    69    65\n",
      "    46    42\n",
      "   161   165\n",
      "\n"
     ]
    }
   ],
   "source": [
    "A = [1,2,3,4; 0,1,2,3; 9,8,7,6]\n",
    "B = [2,3; 5,6; 7,6; 9,8]\n",
    "C = A*B"
   ]
  },
  {
   "cell_type": "code",
   "execution_count": 10,
   "metadata": {
    "collapsed": false
   },
   "outputs": [
    {
     "name": "stdout",
     "output_type": "stream",
     "text": [
      "a =  10\n",
      "b =  20\n",
      "m =  15\n"
     ]
    }
   ],
   "source": [
    "% create data\n",
    "a = 10\n",
    "b = 20\n",
    "\n",
    "% calculate mean\n",
    "m = mean([a,b])"
   ]
  },
  {
   "cell_type": "code",
   "execution_count": null,
   "metadata": {
    "collapsed": true
   },
   "outputs": [],
   "source": []
  }
 ],
 "metadata": {
  "kernelspec": {
   "display_name": "Octave",
   "language": "octave",
   "name": "octave"
  },
  "language_info": {
   "codemirror_mode": "Octave",
   "file_extension": ".m",
   "help_links": [
    {
     "text": "MetaKernel Magics",
     "url": "https://github.com/calysto/metakernel/blob/master/metakernel/magics/README.md"
    }
   ],
   "mimetype": "text/x-octave",
   "name": "octave",
   "version": "0.15.3"
  }
 },
 "nbformat": 4,
 "nbformat_minor": 0
}
