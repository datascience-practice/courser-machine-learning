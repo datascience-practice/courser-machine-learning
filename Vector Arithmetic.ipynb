{
 "cells": [
  {
   "cell_type": "markdown",
   "metadata": {},
   "source": [
    "### Scalar and Vector operations"
   ]
  },
  {
   "cell_type": "code",
   "execution_count": 1,
   "metadata": {
    "collapsed": false
   },
   "outputs": [
    {
     "name": "stdout",
     "output_type": "stream",
     "text": [
      "v =\n",
      "\n",
      "   1.0000\n",
      "   1.5000\n",
      "   2.0000\n",
      "   2.5000\n",
      "   3.0000\n",
      "\n"
     ]
    }
   ],
   "source": [
    "v = [1; 1.5; 2; 2.5; 3]\n"
   ]
  },
  {
   "cell_type": "markdown",
   "metadata": {},
   "source": [
    "#### Multiplication"
   ]
  },
  {
   "cell_type": "code",
   "execution_count": 3,
   "metadata": {
    "collapsed": false
   },
   "outputs": [
    {
     "name": "stdout",
     "output_type": "stream",
     "text": [
      "a =  3\n",
      "b =\n",
      "\n",
      "   3.0000\n",
      "   4.5000\n",
      "   6.0000\n",
      "   7.5000\n",
      "   9.0000\n",
      "\n"
     ]
    }
   ],
   "source": [
    "a = 3\n",
    "b = a * v"
   ]
  },
  {
   "cell_type": "markdown",
   "metadata": {},
   "source": [
    "#### Addition"
   ]
  },
  {
   "cell_type": "code",
   "execution_count": 4,
   "metadata": {
    "collapsed": false
   },
   "outputs": [
    {
     "name": "stdout",
     "output_type": "stream",
     "text": [
      "c =\n",
      "\n",
      "   4.0000\n",
      "   4.5000\n",
      "   5.0000\n",
      "   5.5000\n",
      "   6.0000\n",
      "\n"
     ]
    }
   ],
   "source": [
    "c = v + a*ones(size(v))"
   ]
  },
  {
   "cell_type": "code",
   "execution_count": 5,
   "metadata": {
    "collapsed": false
   },
   "outputs": [
    {
     "name": "stdout",
     "output_type": "stream",
     "text": [
      "d =\n",
      "\n",
      "   4.0000\n",
      "   4.5000\n",
      "   5.0000\n",
      "   5.5000\n",
      "   6.0000\n",
      "\n"
     ]
    }
   ],
   "source": [
    "d = v + a"
   ]
  },
  {
   "cell_type": "markdown",
   "metadata": {},
   "source": [
    "#### Element wiser Power"
   ]
  },
  {
   "cell_type": "code",
   "execution_count": 6,
   "metadata": {
    "collapsed": false
   },
   "outputs": [
    {
     "name": "stdout",
     "output_type": "stream",
     "text": [
      "e =\n",
      "\n",
      "   1.0000\n",
      "   2.2500\n",
      "   4.0000\n",
      "   6.2500\n",
      "   9.0000\n",
      "\n"
     ]
    }
   ],
   "source": [
    "e = v.^2"
   ]
  },
  {
   "cell_type": "code",
   "execution_count": null,
   "metadata": {
    "collapsed": true
   },
   "outputs": [],
   "source": []
  }
 ],
 "metadata": {
  "kernelspec": {
   "display_name": "Octave",
   "language": "octave",
   "name": "octave"
  },
  "language_info": {
   "codemirror_mode": "Octave",
   "file_extension": ".m",
   "help_links": [
    {
     "text": "MetaKernel Magics",
     "url": "https://github.com/calysto/metakernel/blob/master/metakernel/magics/README.md"
    }
   ],
   "mimetype": "text/x-octave",
   "name": "octave",
   "version": "0.15.3"
  }
 },
 "nbformat": 4,
 "nbformat_minor": 0
}
